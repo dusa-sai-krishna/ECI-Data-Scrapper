{
 "cells": [
  {
   "cell_type": "code",
   "execution_count": 1,
   "metadata": {},
   "outputs": [],
   "source": [
    "#import libaries\n",
    "import pandas as pd\n",
    "from bs4 import BeautifulSoup as bs\n",
    "import requests"
   ]
  },
  {
   "cell_type": "code",
   "execution_count": null,
   "metadata": {},
   "outputs": [],
   "source": []
  },
  {
   "cell_type": "code",
   "execution_count": 33,
   "metadata": {},
   "outputs": [],
   "source": [
    "BASE_URL=\"https://ceojk.nic.in/Assembly_Constituencies.htm\"\n",
    "DOMAIN=\"https://ceojk.nic.in/\"\n",
    "\n"
   ]
  },
  {
   "cell_type": "code",
   "execution_count": 34,
   "metadata": {},
   "outputs": [
    {
     "name": "stdout",
     "output_type": "stream",
     "text": [
      "90\n"
     ]
    }
   ],
   "source": [
    "print(len(DATA[\"Name\"]))"
   ]
  },
  {
   "cell_type": "code",
   "execution_count": 30,
   "metadata": {},
   "outputs": [
    {
     "name": "stdout",
     "output_type": "stream",
     "text": [
      "0: Trehgam\n",
      "1: Kupwara\n",
      "2: Lolab\n",
      "3: Handwara\n",
      "4: Langate\n",
      "5: Sopore\n",
      "6: Rafiabad\n",
      "7: Uri\n",
      "8: Baramulla\n",
      "9: Gulmarg\n",
      "10: Wagoora - Kreeri\n",
      "11: Pattan\n",
      "12: Sonawari\n",
      "13: Bandipora\n",
      "14: Gurez (ST)\n",
      "15: Kangan (ST)\n",
      "16: Ganderbal\n",
      "17: Hazratbal\n",
      "18: Khanyar\n",
      "19: Habbakadal\n",
      "20: Lal Chowk\n",
      "21: Chanapora\n",
      "22: Tadibal\n",
      "23: Eidgah\n",
      "24: Central Shalteng\n",
      "25: Budgam\n",
      "26: Beerwah\n",
      "27: Khansahib\n",
      "28: Chrar-i-Sharief\n",
      "29: Chadoora\n",
      "30: Pampore\n",
      "31: Tral\n",
      "32: Pulwama\n",
      "33: Rajpora\n",
      "34: Zainapora\n",
      "35: Shopian\n",
      "36: D.H. Pora\n",
      "37: Kulgam\n",
      "38: Devsar\n",
      "39: Dooru\n",
      "40: Kokernag (ST)\n",
      "41: Anantnag West\n",
      "42: Anantnag\n",
      "43: Srigufwara - Bijbehara\n",
      "44: Shangus- Anantnag East\n",
      "45: Pahalgam\n",
      "46: Inderwal\n",
      "47: Kishtwar\n",
      "48: Padder- Nagseni\n",
      "49: Bhadarwah\n",
      "50: Doda\n",
      "51: Doda West\n",
      "52: Ramban\n",
      "53: Banihal\n",
      "54: Gulabgarh (ST)\n",
      "55: Reasi\n",
      "56: Shri Mata\n",
      "57: Vaishno Devi\n",
      "58: Udhampur West\n",
      "59: Udhampur East\n",
      "60: Chenani\n",
      "61: Ramnagar (SC)\n",
      "62: Bani\n",
      "63: Billawar\n",
      "64: Basohli\n",
      "65: Jasrota\n",
      "66: Kathua (SC)\n",
      "67: Hiranagar\n",
      "68: Ramgarh (SC)\n",
      "69: Samba\n",
      "70: Vijaypur\n",
      "71: Bishnah (SC)\n",
      "72: Suchetgarh (SC)\n",
      "73: R.S. Pura-Jammu South\n",
      "74: Bahu\n",
      "75: Jammu East\n",
      "76: Nagrota\n",
      "77: Jammu West\n",
      "78: Jammu North\n",
      "79: Marh (SC)\n",
      "80: Akhnoor (SC)\n",
      "81: Chhamb\n",
      "82: Kalakote - Sunderbani\n",
      "83: Nowshera\n",
      "84: Rajouri (ST)\n",
      "85: Budhal (ST)\n",
      "86: Thannamandi (ST)\n",
      "87: Surankote (ST)\n",
      "88: Poonch Haveli\n",
      "89: Mendhar (ST)\n"
     ]
    }
   ],
   "source": [
    "for i in range(len(DATA[\"AC No\"])):\n",
    "    print(f\"{i}: {DATA['Name'][i+1]}\")"
   ]
  },
  {
   "cell_type": "code",
   "execution_count": 8,
   "metadata": {},
   "outputs": [
    {
     "name": "stderr",
     "output_type": "stream",
     "text": [
      "c:\\Users\\dsai9\\anaconda3\\lib\\site-packages\\urllib3\\connectionpool.py:1061: InsecureRequestWarning: Unverified HTTPS request is being made to host 'ceojk.nic.in'. Adding certificate verification is strongly advised. See: https://urllib3.readthedocs.io/en/1.26.x/advanced-usage.html#ssl-warnings\n",
      "  warnings.warn(\n"
     ]
    }
   ],
   "source": [
    "headers = {'User-Agent': 'Mozilla/5.0 (Windows NT 10.0; Win64; x64)'}\n",
    "try:\n",
    "    response = requests.get(BASE_URL, headers=headers,verify=False)\n",
    "    soup = bs(response.content, \"html.parser\")\n",
    "except Exception as e:\n",
    "    print(e)"
   ]
  },
  {
   "cell_type": "code",
   "execution_count": 18,
   "metadata": {},
   "outputs": [
    {
     "name": "stdout",
     "output_type": "stream",
     "text": [
      "0: Home\n",
      "1: CEO's Desk\n",
      "2: Organisation\n",
      "3: E Filing \n",
      "4: \n",
      "                                Claims & Objec.\n",
      "5: Know Your BLO\n",
      "6:  Electoral Rolls\n",
      "7:  Name Search \n",
      "8:  Citizen Charter \n",
      "9: RTI\n",
      "10:  KUPWARA \n",
      "11:  KARGIL \n",
      "12:  BARAMULLA \n",
      "13:   KISHTWAR \n",
      "14:   BANDIPUR \n",
      "15:   DODA \n",
      "16:   SRINAGAR\n",
      "17:   RAMBAN\n",
      "18:    GANDERBAL \n",
      "19:   REASI\n",
      "20:     BADGAM  \n",
      "21:    UDHAMPUR \n",
      "22:  PULWAMA \n",
      "23:    KATHUA \n",
      "24:  SHOPIAN \n",
      "25:     SAMBA \n",
      "26:    KULGAM \n",
      "27:   JAMMU  \n",
      "28:    ANANTNAG \n",
      "29:    RAJAURI \n",
      "30:    LEH \n",
      "31:   POONCH \n"
     ]
    }
   ],
   "source": [
    "anchor_tags = list(soup.find_all('a'))\n",
    "for i in range(len(anchor_tags)):\n",
    "    print(f\"{i}: {anchor_tags[i].text}\")"
   ]
  },
  {
   "cell_type": "code",
   "execution_count": 20,
   "metadata": {},
   "outputs": [
    {
     "name": "stdout",
     "output_type": "stream",
     "text": [
      "0: https://ceojk.nic.in/PC_Srinagar.htm#budgam\n",
      "1: https://ceojk.nic.in/PC_Udhampur.htm#udhampur\n",
      "2: https://ceojk.nic.in/PC_Anantnag.htm#pulwama\n",
      "3: https://ceojk.nic.in/PC_Udhampur.htm#kathua\n",
      "4: https://ceojk.nic.in/PC_Anantnag.htm#shopian\n",
      "5: https://ceojk.nic.in/PC_Jammu.htm#samba\n",
      "6: https://ceojk.nic.in/PC_Anantnag.htm#kulgam\n",
      "7: https://ceojk.nic.in/PC_Jammu.htm#jammu\n",
      "8: https://ceojk.nic.in/PC_Anantnag.htm#anantnag\n",
      "9: https://ceojk.nic.in/PC_Jammu.htm#rajauri\n",
      "10: https://ceojk.nic.in/PC_Ladakh.htm#leh\n",
      "11: https://ceojk.nic.in/PC_Jammu.htm#poonch\n"
     ]
    }
   ],
   "source": [
    "anchor_tags = anchor_tags[10:]\n",
    "# get url form them\n",
    "for i in range(len(anchor_tags)):\n",
    "    print(f\"{i}: {DOMAIN+anchor_tags[i].get('href')}\")\n",
    "    "
   ]
  },
  {
   "cell_type": "code",
   "execution_count": null,
   "metadata": {},
   "outputs": [],
   "source": []
  }
 ],
 "metadata": {
  "kernelspec": {
   "display_name": "base",
   "language": "python",
   "name": "python3"
  },
  "language_info": {
   "codemirror_mode": {
    "name": "ipython",
    "version": 3
   },
   "file_extension": ".py",
   "mimetype": "text/x-python",
   "name": "python",
   "nbconvert_exporter": "python",
   "pygments_lexer": "ipython3",
   "version": "3.9.18"
  }
 },
 "nbformat": 4,
 "nbformat_minor": 2
}
